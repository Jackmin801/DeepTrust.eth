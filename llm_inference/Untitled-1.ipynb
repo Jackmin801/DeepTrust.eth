{
 "cells": [
  {
   "cell_type": "code",
   "execution_count": 1,
   "metadata": {},
   "outputs": [
    {
     "name": "stderr",
     "output_type": "stream",
     "text": [
      "/root/miniconda3/envs/deeptrust/lib/python3.11/site-packages/tqdm/auto.py:21: TqdmWarning: IProgress not found. Please update jupyter and ipywidgets. See https://ipywidgets.readthedocs.io/en/stable/user_install.html\n",
      "  from .autonotebook import tqdm as notebook_tqdm\n",
      "Loading checkpoint shards: 100%|██████████| 4/4 [00:27<00:00,  6.82s/it]\n"
     ]
    }
   ],
   "source": [
    "import torch\n",
    "from transformers import AutoTokenizer\n",
    "from deeptrust.models.llama.modeling_llama import LlamaForCausalLM\n",
    "import time\n",
    "from pathlib import Path\n",
    "\n",
    "model_name = \"meta-llama/Llama-3.1-8B-Instruct\"\n",
    "model = LlamaForCausalLM.from_pretrained(model_name, device_map=\"cuda\", torch_dtype=torch.float32)\n",
    "tokenizer = AutoTokenizer.from_pretrained(model_name, use_fast=True)\n",
    "\n",
    "COMMIT_DIR = Path(\"/tmp/deeptrust-commits\")\n",
    "COMMIT_DIR.mkdir(exist_ok=True)\n",
    "\n",
    "def get_commit_path_from_time():\n",
    "    return COMMIT_DIR / f\"{int(time.time())}.log\""
   ]
  },
  {
   "cell_type": "markdown",
   "metadata": {},
   "source": [
    "# Happy Path"
   ]
  },
  {
   "cell_type": "code",
   "execution_count": 2,
   "metadata": {},
   "outputs": [
    {
     "name": "stderr",
     "output_type": "stream",
     "text": [
      "The attention mask and the pad token id were not set. As a consequence, you may observe unexpected behavior. Please pass your input's `attention_mask` to obtain reliable results.\n",
      "Setting `pad_token_id` to `eos_token_id`:None for open-end generation.\n",
      "The attention mask is not set and cannot be inferred from input because pad token is same as eos token. As a consequence, you may observe unexpected behavior. Please pass your input's `attention_mask` to obtain reliable results.\n",
      "Starting from v4.46, the `logits` model output will have the same type as the model (except at train time, where it will always be FP32)\n"
     ]
    },
    {
     "name": "stdout",
     "output_type": "stream",
     "text": [
      "<|begin_of_text|>What is proto-danksharding and how is it related to eth sharding? \n",
      "Proto-danksharding\n"
     ]
    }
   ],
   "source": [
    "from deeptrust.commits import Commit\n",
    "\n",
    "input_text = \"What is proto-danksharding and how is it related to eth sharding?\"\n",
    "input_ids = tokenizer(input_text, return_tensors=\"pt\").input_ids\n",
    "\n",
    "model.deeptrust_commit = Commit(\n",
    "    model_name=model_name,\n",
    "    device=\"cuda\",\n",
    "    dtype=\"float32\",\n",
    "    engine=\"transformers\",\n",
    "    hashes=[],\n",
    "    completion=None,\n",
    "    input_tokens=len(input_ids[0]),\n",
    "    generation_config={\"do_sample\": True, \"max_length\": 24, \"num_return_sequences\": 1},\n",
    ")\n",
    "\n",
    "output = model.generate(input_ids.cuda(), do_sample=True, max_length=24, num_return_sequences=1)\n",
    "\n",
    "model.deeptrust_commit.completion = [i.item() for i in output[0]]\n",
    "model.deeptrust_commit.to_file(\"./happy-gen.json\")\n",
    "print(tokenizer.decode(output[0]))"
   ]
  },
  {
   "cell_type": "code",
   "execution_count": 3,
   "metadata": {},
   "outputs": [
    {
     "data": {
      "text/plain": [
       "['float32[1, 18, 4096](73728, 4096, 1)<aa928465160a2bcfd32412cd6b89f643>',\n",
       " 'float32[1, 1, 4096](4096, 4096, 1)<fa6fc26a964eebe8e885a03a64975dc3>',\n",
       " 'float32[1, 1, 4096](4096, 4096, 1)<b9e40dd1771b575c7948658d5c6b69ca>',\n",
       " 'float32[1, 1, 4096](4096, 4096, 1)<f15eb116b1748a119209b27ead0733d3>',\n",
       " 'float32[1, 1, 4096](4096, 4096, 1)<a1788b73b649b1ab7cf111520e0ad429>',\n",
       " 'float32[1, 1, 4096](4096, 4096, 1)<63d0cb508a8ad9f5bcefa99454c0e242>']"
      ]
     },
     "execution_count": 3,
     "metadata": {},
     "output_type": "execute_result"
    }
   ],
   "source": [
    "model.deeptrust_commit.hashes"
   ]
  },
  {
   "cell_type": "code",
   "execution_count": 4,
   "metadata": {},
   "outputs": [
    {
     "name": "stdout",
     "output_type": "stream",
     "text": [
      "torch.Size([1, 23, 4096]) 94208 73728\n",
      "torch.Size([1, 23, 4096]) 94208 77824\n",
      "torch.Size([1, 23, 4096]) 94208 81920\n",
      "torch.Size([1, 23, 4096]) 94208 86016\n",
      "torch.Size([1, 23, 4096]) 94208 90112\n"
     ]
    },
    {
     "data": {
      "text/plain": [
       "['float32[1, 18, 4096](73728, 4096, 1)<aa928465160a2bcfd32412cd6b89f643>',\n",
       " 'float32[1, 1, 4096](4096, 4096, 1)<fa6fc26a964eebe8e885a03a64975dc3>',\n",
       " 'float32[1, 1, 4096](4096, 4096, 1)<b9e40dd1771b575c7948658d5c6b69ca>',\n",
       " 'float32[1, 1, 4096](4096, 4096, 1)<f15eb116b1748a119209b27ead0733d3>',\n",
       " 'float32[1, 1, 4096](4096, 4096, 1)<a1788b73b649b1ab7cf111520e0ad429>',\n",
       " 'float32[1, 1, 4096](4096, 4096, 1)<63d0cb508a8ad9f5bcefa99454c0e242>']"
      ]
     },
     "execution_count": 4,
     "metadata": {},
     "output_type": "execute_result"
    }
   ],
   "source": [
    "model.deeptrust_commit.hashes = []\n",
    "\n",
    "with torch.inference_mode():\n",
    "    _ = model(output[:, :-1])\n",
    "\n",
    "model.deeptrust_commit.to_file(\"./happy-val.json\")\n",
    "model.deeptrust_commit.hashes"
   ]
  },
  {
   "cell_type": "markdown",
   "metadata": {},
   "source": [
    "# Bad path"
   ]
  },
  {
   "cell_type": "code",
   "execution_count": 5,
   "metadata": {},
   "outputs": [],
   "source": [
    "bad_model_name = \"meta-llama/Llama-3.2-1B\"\n",
    "bad_model = LlamaForCausalLM.from_pretrained(bad_model_name, device_map=\"cuda\", torch_dtype=torch.bfloat16)\n",
    "bad_tokenizer = AutoTokenizer.from_pretrained(bad_model_name, use_fast=True)"
   ]
  },
  {
   "cell_type": "code",
   "execution_count": 6,
   "metadata": {},
   "outputs": [
    {
     "name": "stderr",
     "output_type": "stream",
     "text": [
      "The attention mask and the pad token id were not set. As a consequence, you may observe unexpected behavior. Please pass your input's `attention_mask` to obtain reliable results.\n",
      "Setting `pad_token_id` to `eos_token_id`:None for open-end generation.\n"
     ]
    },
    {
     "name": "stdout",
     "output_type": "stream",
     "text": [
      "<|begin_of_text|>What is proto-danksharding and how is it related to eth sharding? What is the difference between proto\n"
     ]
    }
   ],
   "source": [
    "from deeptrust.commits import Commit\n",
    "\n",
    "input_text = \"What is proto-danksharding and how is it related to eth sharding?\"\n",
    "input_ids = tokenizer(input_text, return_tensors=\"pt\").input_ids\n",
    "\n",
    "bad_model.deeptrust_commit = Commit(\n",
    "    model_name=model_name,\n",
    "    device=\"cuda\",\n",
    "    dtype=\"float32\",\n",
    "    engine=\"transformers\",\n",
    "    hashes=[],\n",
    "    completion=None,\n",
    "    input_tokens=len(input_ids[0]),\n",
    "    generation_config={\"do_sample\": True, \"max_length\": 24, \"num_return_sequences\": 1},\n",
    ")\n",
    "\n",
    "output = bad_model.generate(input_ids.cuda(), do_sample=True, max_length=24, num_return_sequences=1)\n",
    "\n",
    "model.deeptrust_commit.completion = [i.item() for i in output[0]]\n",
    "model.deeptrust_commit.to_file(\"./bad-gen.json\")\n",
    "print(tokenizer.decode(output[0]))"
   ]
  },
  {
   "cell_type": "code",
   "execution_count": 7,
   "metadata": {},
   "outputs": [
    {
     "data": {
      "text/plain": [
       "['bfloat16[1, 18, 2048](36864, 2048, 1)<01999b437754b382a5d466021fe4f175>',\n",
       " 'bfloat16[1, 1, 2048](2048, 2048, 1)<f5c1df2c601a6943daf6504767766e99>',\n",
       " 'bfloat16[1, 1, 2048](2048, 2048, 1)<9f6093e8ece73bc15bdacaa9f873fb16>',\n",
       " 'bfloat16[1, 1, 2048](2048, 2048, 1)<d772bcc340ad20e21e1325368fea8108>',\n",
       " 'bfloat16[1, 1, 2048](2048, 2048, 1)<0f83b21c0a1e072984d81beed14b1532>',\n",
       " 'bfloat16[1, 1, 2048](2048, 2048, 1)<26e206f6a0a6ab5bc0892762e1fe16b8>']"
      ]
     },
     "execution_count": 7,
     "metadata": {},
     "output_type": "execute_result"
    }
   ],
   "source": [
    "bad_model.deeptrust_commit.hashes"
   ]
  },
  {
   "cell_type": "code",
   "execution_count": 8,
   "metadata": {},
   "outputs": [
    {
     "name": "stdout",
     "output_type": "stream",
     "text": [
      "torch.Size([1, 23, 4096]) 94208 73728\n",
      "torch.Size([1, 23, 4096]) 94208 77824\n",
      "torch.Size([1, 23, 4096]) 94208 81920\n",
      "torch.Size([1, 23, 4096]) 94208 86016\n",
      "torch.Size([1, 23, 4096]) 94208 90112\n"
     ]
    },
    {
     "data": {
      "text/plain": [
       "['float32[1, 18, 4096](73728, 4096, 1)<aa928465160a2bcfd32412cd6b89f643>',\n",
       " 'float32[1, 1, 4096](4096, 4096, 1)<e6fdeb0f56fa4f69aa15ceec58e5d5d0>',\n",
       " 'float32[1, 1, 4096](4096, 4096, 1)<7bfc01e4d9f72657e1f33657037954c4>',\n",
       " 'float32[1, 1, 4096](4096, 4096, 1)<747ff6a5eca11c002f328322d635ad69>',\n",
       " 'float32[1, 1, 4096](4096, 4096, 1)<560efd127e41d5fd69dac3c3036cbbd4>',\n",
       " 'float32[1, 1, 4096](4096, 4096, 1)<1b16647798b96feea6c83ea09ad32b2a>']"
      ]
     },
     "execution_count": 8,
     "metadata": {},
     "output_type": "execute_result"
    }
   ],
   "source": [
    "model.deeptrust_commit.hashes = []\n",
    "\n",
    "with torch.inference_mode():\n",
    "    _ = model(output[:, :-1])\n",
    "\n",
    "model.deeptrust_commit.to_file(\"./bad-val.json\")\n",
    "model.deeptrust_commit.hashes"
   ]
  },
  {
   "cell_type": "markdown",
   "metadata": {},
   "source": [
    "# Validation"
   ]
  },
  {
   "cell_type": "code",
   "execution_count": 13,
   "metadata": {},
   "outputs": [
    {
     "name": "stdout",
     "output_type": "stream",
     "text": [
      "0\n"
     ]
    }
   ],
   "source": [
    "%%bash\n",
    "diff happy-gen.json happy-val.json 2>&1 > /dev/null\n",
    "echo $?"
   ]
  },
  {
   "cell_type": "code",
   "execution_count": 14,
   "metadata": {},
   "outputs": [
    {
     "name": "stdout",
     "output_type": "stream",
     "text": [
      "1\n"
     ]
    }
   ],
   "source": [
    "%%bash\n",
    "diff bad-gen.json bad-val.json 2>&1 > /dev/null\n",
    "echo $?"
   ]
  }
 ],
 "metadata": {
  "kernelspec": {
   "display_name": "deeptrust",
   "language": "python",
   "name": "python3"
  },
  "language_info": {
   "codemirror_mode": {
    "name": "ipython",
    "version": 3
   },
   "file_extension": ".py",
   "mimetype": "text/x-python",
   "name": "python",
   "nbconvert_exporter": "python",
   "pygments_lexer": "ipython3",
   "version": "3.11.10"
  }
 },
 "nbformat": 4,
 "nbformat_minor": 2
}
