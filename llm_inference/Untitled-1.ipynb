{
 "cells": [
  {
   "cell_type": "code",
   "execution_count": 1,
   "metadata": {},
   "outputs": [
    {
     "name": "stderr",
     "output_type": "stream",
     "text": [
      "/root/miniconda3/envs/deeptrust/lib/python3.11/site-packages/tqdm/auto.py:21: TqdmWarning: IProgress not found. Please update jupyter and ipywidgets. See https://ipywidgets.readthedocs.io/en/stable/user_install.html\n",
      "  from .autonotebook import tqdm as notebook_tqdm\n",
      "Loading checkpoint shards: 100%|██████████| 4/4 [00:31<00:00,  7.92s/it]\n"
     ]
    }
   ],
   "source": [
    "import torch\n",
    "from transformers import AutoTokenizer\n",
    "from deeptrust.models.llama.modeling_llama import LlamaForCausalLM, COMMIT_CONFIG\n",
    "import time\n",
    "from pathlib import Path\n",
    "\n",
    "model_name = \"meta-llama/Llama-3.1-8B-Instruct\"\n",
    "model = LlamaForCausalLM.from_pretrained(model_name, device_map=\"cuda\", torch_dtype=torch.float32)\n",
    "tokenizer = AutoTokenizer.from_pretrained(model_name, use_fast=True)\n",
    "\n",
    "COMMIT_DIR = Path(\"/tmp/deeptrust-commits\")\n",
    "COMMIT_DIR.mkdir(exist_ok=True)\n",
    "\n",
    "def get_commit_path_from_time():\n",
    "    return COMMIT_DIR / f\"{int(time.time())}.log\""
   ]
  },
  {
   "cell_type": "markdown",
   "metadata": {},
   "source": [
    "# Happy Path"
   ]
  },
  {
   "cell_type": "code",
   "execution_count": 2,
   "metadata": {},
   "outputs": [
    {
     "name": "stderr",
     "output_type": "stream",
     "text": [
      "The attention mask and the pad token id were not set. As a consequence, you may observe unexpected behavior. Please pass your input's `attention_mask` to obtain reliable results.\n",
      "Setting `pad_token_id` to `eos_token_id`:None for open-end generation.\n",
      "The attention mask is not set and cannot be inferred from input because pad token is same as eos token. As a consequence, you may observe unexpected behavior. Please pass your input's `attention_mask` to obtain reliable results.\n"
     ]
    },
    {
     "name": "stdout",
     "output_type": "stream",
     "text": [
      "Writing commit to /tmp/deeptrust-commits/1729417546.log\n"
     ]
    },
    {
     "name": "stderr",
     "output_type": "stream",
     "text": [
      "Starting from v4.46, the `logits` model output will have the same type as the model (except at train time, where it will always be FP32)\n"
     ]
    },
    {
     "name": "stdout",
     "output_type": "stream",
     "text": [
      "<|begin_of_text|>What is proto-danksharding and how is it related to eth sharding? - Ethereum Stack Exchange\n",
      "What\n"
     ]
    }
   ],
   "source": [
    "input_text = \"What is proto-danksharding and how is it related to eth sharding?\"\n",
    "commit_file = get_commit_path_from_time().open(\"w\")\n",
    "print(f\"Writing commit to {commit_file.name}\")\n",
    "COMMIT_CONFIG.commit_file = commit_file\n",
    "#commit_file.write(input_text)\n",
    "#commit_file.write(\"\\n\")\n",
    "\n",
    "input_ids = tokenizer(input_text, return_tensors=\"pt\").input_ids\n",
    "\n",
    "output = model.generate(input_ids.cuda(), do_sample=True, max_length=24, num_return_sequences=1)\n",
    "\n",
    "#commit_file.write(tokenizer.decode(output[0]))\n",
    "print(tokenizer.decode(output[0]))\n",
    "\n",
    "commit_file.close()"
   ]
  },
  {
   "cell_type": "code",
   "execution_count": 3,
   "metadata": {},
   "outputs": [
    {
     "name": "stdout",
     "output_type": "stream",
     "text": [
      "Writing commit to /tmp/deeptrust-commits/1729417547.log\n"
     ]
    }
   ],
   "source": [
    "commit_file = get_commit_path_from_time().open(\"w\")\n",
    "print(f\"Writing commit to {commit_file.name}\")\n",
    "COMMIT_CONFIG.commit_file = commit_file\n",
    "COMMIT_CONFIG.input_prompt_length = 18\n",
    "\n",
    "with torch.inference_mode():\n",
    "    _ = model(output[:, :-1])\n",
    "\n",
    "#commit_file.write(input_text)\n",
    "commit_file.close()"
   ]
  },
  {
   "cell_type": "markdown",
   "metadata": {},
   "source": [
    "# Bad path"
   ]
  },
  {
   "cell_type": "code",
   "execution_count": 4,
   "metadata": {},
   "outputs": [],
   "source": [
    "bad_model_name = \"meta-llama/Llama-3.2-1B\"\n",
    "bad_model = LlamaForCausalLM.from_pretrained(bad_model_name, device_map=\"cuda\", torch_dtype=torch.bfloat16)\n",
    "bad_tokenizer = AutoTokenizer.from_pretrained(bad_model_name, use_fast=True)"
   ]
  },
  {
   "cell_type": "code",
   "execution_count": 5,
   "metadata": {},
   "outputs": [
    {
     "name": "stderr",
     "output_type": "stream",
     "text": [
      "The attention mask and the pad token id were not set. As a consequence, you may observe unexpected behavior. Please pass your input's `attention_mask` to obtain reliable results.\n",
      "Setting `pad_token_id` to `eos_token_id`:None for open-end generation.\n"
     ]
    },
    {
     "name": "stdout",
     "output_type": "stream",
     "text": [
      "Writing commit to /tmp/deeptrust-commits/1729417616.log\n",
      "<|begin_of_text|>What is proto-danksharding and how is it related to eth sharding? (Part 1)\n",
      "There\n"
     ]
    }
   ],
   "source": [
    "input_text = \"What is proto-danksharding and how is it related to eth sharding?\"\n",
    "commit_file = get_commit_path_from_time().open(\"w\")\n",
    "print(f\"Writing commit to {commit_file.name}\")\n",
    "COMMIT_CONFIG.commit_file = commit_file\n",
    "#commit_file.write(input_text)\n",
    "#commit_file.write(\"\\n\")\n",
    "\n",
    "input_ids = bad_tokenizer(input_text, return_tensors=\"pt\").input_ids\n",
    "\n",
    "output = bad_model.generate(input_ids.cuda(), do_sample=True, max_length=24, num_return_sequences=1)\n",
    "\n",
    "#commit_file.write(tokenizer.decode(output[0]))\n",
    "print(bad_tokenizer.decode(output[0]))\n",
    "\n",
    "commit_file.close()"
   ]
  },
  {
   "cell_type": "code",
   "execution_count": 6,
   "metadata": {},
   "outputs": [
    {
     "name": "stdout",
     "output_type": "stream",
     "text": [
      "Writing commit to /tmp/deeptrust-commits/1729417619.log\n"
     ]
    }
   ],
   "source": [
    "commit_file = get_commit_path_from_time().open(\"w\")\n",
    "print(f\"Writing commit to {commit_file.name}\")\n",
    "COMMIT_CONFIG.commit_file = commit_file\n",
    "COMMIT_CONFIG.input_prompt_length = 18\n",
    "\n",
    "with torch.inference_mode():\n",
    "    _ = model(output[:, :-1])\n",
    "\n",
    "#commit_file.write(input_text)\n",
    "commit_file.close()"
   ]
  },
  {
   "cell_type": "code",
   "execution_count": null,
   "metadata": {},
   "outputs": [],
   "source": []
  }
 ],
 "metadata": {
  "kernelspec": {
   "display_name": "deeptrust",
   "language": "python",
   "name": "python3"
  },
  "language_info": {
   "codemirror_mode": {
    "name": "ipython",
    "version": 3
   },
   "file_extension": ".py",
   "mimetype": "text/x-python",
   "name": "python",
   "nbconvert_exporter": "python",
   "pygments_lexer": "ipython3",
   "version": "3.11.10"
  }
 },
 "nbformat": 4,
 "nbformat_minor": 2
}
